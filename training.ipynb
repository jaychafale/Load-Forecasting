{
 "cells": [
  {
   "cell_type": "code",
   "execution_count": 3,
   "metadata": {},
   "outputs": [
    {
     "name": "stdout",
     "output_type": "stream",
     "text": [
      "✅ Model saved as 'energy_recommender.pkl'\n"
     ]
    }
   ],
   "source": [
    "import pandas as pd\n",
    "from sklearn.ensemble import RandomForestClassifier\n",
    "from sklearn.model_selection import train_test_split\n",
    "import joblib\n",
    "\n",
    "# Load your dataset\n",
    "df = pd.read_csv(\"final_load_weather_data.csv\")\n",
    "\n",
    "# Create synthetic features\n",
    "df['dew_point'] = df['temp'] - 2.5\n",
    "df['solar_radiation'] = df['temp'] * 5  # Synthetic approximation\n",
    "\n",
    "# Labeling function (heuristic)\n",
    "def energy_source_label(row):\n",
    "    sr = row['solar_radiation']\n",
    "    ws = row['wind_speed']\n",
    "    if sr >= 300 and ws < 4:\n",
    "        return \"solar\"\n",
    "    elif ws >= 6 and sr < 200:\n",
    "        return \"wind\"\n",
    "    elif ws >= 6 and sr >= 300:\n",
    "        return \"both\"\n",
    "    else:\n",
    "        return \"none\"\n",
    "\n",
    "# Apply labeling\n",
    "df['energy_source'] = df.apply(energy_source_label, axis=1)\n",
    "\n",
    "# Prepare features and target\n",
    "X = df[['temp', 'humidity', 'wind_speed', 'dew_point', 'solar_radiation']]\n",
    "y = df['energy_source']\n",
    "\n",
    "# Train-test split\n",
    "X_train, X_test, y_train, y_test = train_test_split(X, y, random_state=42)\n",
    "\n",
    "# Train classifier\n",
    "clf = RandomForestClassifier(n_estimators=100, random_state=42)\n",
    "clf.fit(X_train, y_train)\n",
    "\n",
    "# Save the model\n",
    "joblib.dump(clf, \"energy_recommender.pkl\")\n",
    "print(\"✅ Model saved as 'energy_recommender.pkl'\")\n"
   ]
  },
  {
   "cell_type": "code",
   "execution_count": 2,
   "metadata": {},
   "outputs": [
    {
     "name": "stdout",
     "output_type": "stream",
     "text": [
      "['ds', 'y', 'forecast_load', 'Unnamed: 0', 'dt', 'city_id', 'temp', 'temp_min', 'temp_max', 'pressure', 'humidity', 'wind_speed', 'wind_deg', 'rain_1h', 'rain_3h', 'snow_3h', 'clouds_all', 'weather_id']\n"
     ]
    }
   ],
   "source": [
    "import pandas as pd\n",
    "\n",
    "df = pd.read_csv(\"final_load_weather_data.csv\")\n",
    "print(df.columns.tolist())\n"
   ]
  },
  {
   "cell_type": "code",
   "execution_count": 4,
   "metadata": {},
   "outputs": [
    {
     "data": {
      "text/plain": [
       "{2, 3}"
      ]
     },
     "execution_count": 4,
     "metadata": {},
     "output_type": "execute_result"
    }
   ],
   "source": [
    "({1,2,3} & {2,3,4})"
   ]
  },
  {
   "cell_type": "code",
   "execution_count": null,
   "metadata": {},
   "outputs": [],
   "source": []
  }
 ],
 "metadata": {
  "kernelspec": {
   "display_name": "base",
   "language": "python",
   "name": "python3"
  },
  "language_info": {
   "codemirror_mode": {
    "name": "ipython",
    "version": 3
   },
   "file_extension": ".py",
   "mimetype": "text/x-python",
   "name": "python",
   "nbconvert_exporter": "python",
   "pygments_lexer": "ipython3",
   "version": "3.12.7"
  }
 },
 "nbformat": 4,
 "nbformat_minor": 2
}
